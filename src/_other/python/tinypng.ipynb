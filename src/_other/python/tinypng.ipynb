{
 "cells": [
  {
   "cell_type": "code",
   "execution_count": 7,
   "metadata": {},
   "outputs": [
    {
     "name": "stdout",
     "output_type": "stream",
     "text": [
      "handle...skill\\1\\s3_new.png\n",
      "handle...skill\\1\\s7_new.png\n",
      "handle...skill\\2\\s3_new.png\n",
      "handle...skill\\2\\s7_new.png\n",
      "handle...skill\\3\\s3_new.png\n"
     ]
    }
   ],
   "source": [
    "import tinify\n",
    "import os\n",
    "tinify.key = 'c5Xh7Zc7bVFNhwyQmPWdPSSHPxF2r2WQ'\n",
    "\n",
    "def compress_online(sourcefile, outputfile):\n",
    "    source = tinify.from_file(sourcefile)\n",
    "    source.to_file(outputfile)\n",
    "    print('handle...' + outputfile)\n",
    "\n",
    "rPath = 'skill'\n",
    "toPath = './skill_new'\n",
    "for root, dirs, files in os.walk(rPath):\n",
    "    for name in files:\n",
    "        newFromFilePath = os.path.join(root, name)\n",
    "        fileName, fileSuffix = os.path.splitext(name)\n",
    "        newToFilePath = os.path.join(root, fileName + '_new' + fileSuffix)\n",
    "        if fileSuffix == '.png' or fileSuffix == '.jpg':\n",
    "            compress_online(newFromFilePath, newToFilePath)\n",
    "        else:\n",
    "            pass"
   ]
  },
  {
   "cell_type": "code",
   "execution_count": null,
   "metadata": {},
   "outputs": [],
   "source": []
  }
 ],
 "metadata": {
  "kernelspec": {
   "display_name": "Python 3",
   "language": "python",
   "name": "python3"
  },
  "language_info": {
   "codemirror_mode": {
    "name": "ipython",
    "version": 3
   },
   "file_extension": ".py",
   "mimetype": "text/x-python",
   "name": "python",
   "nbconvert_exporter": "python",
   "pygments_lexer": "ipython3",
   "version": "3.7.4"
  }
 },
 "nbformat": 4,
 "nbformat_minor": 2
}
