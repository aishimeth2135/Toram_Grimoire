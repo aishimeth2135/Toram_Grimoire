{
 "cells": [
  {
   "cell_type": "code",
   "execution_count": 1,
   "metadata": {},
   "outputs": [
    {
     "name": "stdout",
     "output_type": "stream",
     "text": [
      "handle...si0707\\advancedfamilia_new.png\n",
      "handle...si0707\\imperialray_new.png\n",
      "handle...si0707\\shadowwalk_new.png\n",
      "handle...si0707\\sicarius_new.png\n"
     ]
    }
   ],
   "source": [
    "import tinify\n",
    "import os\n",
    "tinify.key = 'c5Xh7Zc7bVFNhwyQmPWdPSSHPxF2r2WQ'\n",
    "\n",
    "def compress_online(sourcefile, outputfile):\n",
    "    source = tinify.from_file(sourcefile)\n",
    "    source.to_file(outputfile)\n",
    "    print('handle...' + outputfile)\n",
    "\n",
    "rPath = 'si0707'\n",
    "# toPath = './skill_new'\n",
    "for root, dirs, files in os.walk(rPath):\n",
    "    for name in files:\n",
    "        newFromFilePath = os.path.join(root, name)\n",
    "        fileName, fileSuffix = os.path.splitext(name)\n",
    "        newToFilePath = os.path.join(root, fileName + '_new' + fileSuffix)\n",
    "        if fileSuffix == '.png' or fileSuffix == '.jpg':\n",
    "            compress_online(newFromFilePath, newToFilePath)\n",
    "        else:\n",
    "            pass"
   ]
  },
  {
   "cell_type": "code",
   "execution_count": null,
   "metadata": {},
   "outputs": [],
   "source": []
  }
 ],
 "metadata": {
  "kernelspec": {
   "display_name": "Python36",
   "language": "python",
   "name": "notebook36"
  },
  "language_info": {
   "codemirror_mode": {
    "name": "ipython",
    "version": 3
   },
   "file_extension": ".py",
   "mimetype": "text/x-python",
   "name": "python",
   "nbconvert_exporter": "python",
   "pygments_lexer": "ipython3",
   "version": "3.6.10"
  }
 },
 "nbformat": 4,
 "nbformat_minor": 2
}
