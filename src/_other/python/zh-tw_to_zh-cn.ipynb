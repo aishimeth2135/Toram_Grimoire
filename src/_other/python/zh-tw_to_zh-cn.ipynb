{
 "cells": [
  {
   "cell_type": "code",
   "execution_count": 1,
   "metadata": {},
   "outputs": [
    {
     "name": "stdout",
     "output_type": "stream",
     "text": [
      "handle:  ..\\..\\..\\src\\components\\SaveLoadDataSystem\\LanguageData\\zh_tw.js\n",
      "handle:  ..\\..\\..\\src\\lib\\CharacterSystem\\module\\LanguageData\\zh_tw.js\n",
      "handle:  ..\\..\\..\\src\\lib\\main\\module\\LanguageData\\zh_tw.js\n",
      "handle:  ..\\..\\..\\src\\lib\\SaveLoadDataSystem\\module\\LanguageData\\zh_tw.js\n",
      "handle:  ..\\..\\..\\src\\lib\\SaveLoadSystem\\module\\LanguageData\\zh_tw.js\n",
      "handle:  ..\\..\\..\\src\\lib\\UserGuideSystem\\module\\LanguageData\\zh_tw.js\n",
      "handle:  ..\\..\\..\\src\\router\\LanguageData\\zh_tw.js\n",
      "handle:  ..\\..\\..\\src\\views\\Calculation\\damage\\LanguageData\\zh_tw.js\n",
      "handle:  ..\\..\\..\\src\\views\\CharacterSimulator\\LanguageData\\zh_tw.js\n",
      "handle:  ..\\..\\..\\src\\views\\EnchantSimulator\\LanguageData\\zh_tw.js\n",
      "handle:  ..\\..\\..\\src\\views\\Home\\About\\LanguageData\\zh_tw.js\n",
      "handle:  ..\\..\\..\\src\\views\\Home\\Home\\LanguageData\\zh_tw.js\n",
      "handle:  ..\\..\\..\\src\\views\\ItemQuery\\LanguageData\\zh_tw.js\n",
      "handle:  ..\\..\\..\\src\\views\\SkillQuery\\LanguageData\\zh_tw.js\n",
      "handle:  ..\\..\\..\\src\\views\\SkillSimulator\\LanguageData\\zh_tw.js\n",
      "handle:  ..\\..\\..\\src\\views\\_tmp\\_template\\LanguageData\\zh_tw.js\n"
     ]
    }
   ],
   "source": [
    "from hanziconv import HanziConv\n",
    "\n",
    "import os\n",
    "\n",
    "r = os.path.join('..', '..', '..', 'src')\n",
    "#exs = ['..\\..\\..\\views\\SkillQuery\\LanguageData\\zh_tw.js']\n",
    "exs = []\n",
    "\n",
    "flag = True\n",
    "for path, dir_list, file_list in os.walk(r):\n",
    "    for file_name in file_list:\n",
    "        if file_name == 'zh_tw.js' and flag:\n",
    "            #flag = False\n",
    "            _file = os.path.join(path, file_name)\n",
    "            print(\"handle: \", _file)\n",
    "            if _file in exs:\n",
    "                print('...skip')\n",
    "                continue\n",
    "            with open(_file, 'r', encoding='UTF-8') as f:\n",
    "                lines = f.read()\n",
    "                res = HanziConv.toSimplified(lines)\n",
    "                #print(res)\n",
    "                output_file = os.path.join(path, 'zh_cn.js')\n",
    "                with open(output_file, 'w', encoding='UTF-8') as ofile:\n",
    "                    ofile.write(res)\n",
    "            "
   ]
  },
  {
   "cell_type": "code",
   "execution_count": null,
   "metadata": {},
   "outputs": [],
   "source": []
  }
 ],
 "metadata": {
  "kernelspec": {
   "display_name": "Python 3",
   "language": "python",
   "name": "python3"
  },
  "language_info": {
   "codemirror_mode": {
    "name": "ipython",
    "version": 3
   },
   "file_extension": ".py",
   "mimetype": "text/x-python",
   "name": "python",
   "nbconvert_exporter": "python",
   "pygments_lexer": "ipython3",
   "version": "3.7.4"
  }
 },
 "nbformat": 4,
 "nbformat_minor": 2
}
