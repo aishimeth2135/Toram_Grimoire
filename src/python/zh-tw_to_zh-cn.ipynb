{
 "cells": [
  {
   "cell_type": "code",
   "execution_count": 37,
   "metadata": {},
   "outputs": [
    {
     "name": "stdout",
     "output_type": "stream",
     "text": [
      "handle:  ..\\js\\CalculationSystem\\Damage\\module\\LanguageData\\zh_tw.js\n",
      "handle:  ..\\js\\CharacterSystem\\module\\LanguageData\\zh_tw.js\n",
      "handle:  ..\\js\\main\\DamageCalculation\\module\\LanguageData\\zh_tw.js\n",
      "handle:  ..\\js\\main\\EnchantSimulator\\module\\LanguageData\\zh_tw.js\n",
      "handle:  ..\\js\\main\\Home\\module\\LanguageData\\zh_tw.js\n",
      "handle:  ..\\js\\main\\ItemQuery\\module\\LanguageData\\zh_tw.js\n",
      "handle:  ..\\js\\main\\module\\LanguageData\\zh_tw.js\n",
      "handle:  ..\\js\\main\\SkillQuery\\module\\LanguageData\\zh_tw.js\n",
      "handle:  ..\\js\\main\\SkillSimulator\\module\\LanguageData\\zh_tw.js\n",
      "handle:  ..\\js\\main\\_build\\createPage\\module\\LanguageData\\zh_tw.js\n",
      "handle:  ..\\js\\SaveLoadDataSystem\\module\\LanguageData\\zh_tw.js\n",
      "handle:  ..\\js\\SaveLoadSystem\\module\\LanguageData\\zh_tw.js\n",
      "handle:  ..\\js\\UserGuideSystem\\module\\LanguageData\\zh_tw.js\n"
     ]
    }
   ],
   "source": [
    "from hanziconv import HanziConv\n",
    "\n",
    "import os\n",
    "\n",
    "r = os.path.join('..', 'js')\n",
    "\n",
    "door = True\n",
    "for path,dir_list,file_list in os.walk(r):\n",
    "    for file_name in file_list:\n",
    "        if file_name == 'zh_tw.js' and door:\n",
    "            #door = False\n",
    "            _file = os.path.join(path, file_name)\n",
    "            print(\"handle: \", _file)\n",
    "            with open(_file, 'r', encoding='UTF-8') as f:\n",
    "                lines = f.read()\n",
    "                res = HanziConv.toSimplified(lines)\n",
    "                #print(res)\n",
    "                output_file = os.path.join(path, 'zh_cn.js')\n",
    "                with open(output_file, 'w', encoding='UTF-8') as ofile:\n",
    "                    ofile.write(res)\n",
    "            "
   ]
  },
  {
   "cell_type": "code",
   "execution_count": null,
   "metadata": {},
   "outputs": [],
   "source": []
  }
 ],
 "metadata": {
  "kernelspec": {
   "display_name": "Python 3",
   "language": "python",
   "name": "python3"
  },
  "language_info": {
   "codemirror_mode": {
    "name": "ipython",
    "version": 3
   },
   "file_extension": ".py",
   "mimetype": "text/x-python",
   "name": "python",
   "nbconvert_exporter": "python",
   "pygments_lexer": "ipython3",
   "version": "3.7.4"
  }
 },
 "nbformat": 4,
 "nbformat_minor": 2
}
